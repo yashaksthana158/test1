{
  "cells": [
    {
      "cell_type": "markdown",
      "metadata": {
        "id": "W3v7cwi8-VL2"
      },
      "source": [
        "Name: Keshav Khari\\\n",
        "Roll No:AE-1226\\\n",
        "Department: B.SC(H)- Computer Science 5 Semester\\\n",
        "Subject: DATA MINING 2"
      ]
    },
    {
      "cell_type": "markdown",
      "metadata": {
        "id": "x6eI1lqy-VL3"
      },
      "source": [
        "# Q1.  Use python module to convert a pdf file to text and followed by the following text mining  \n",
        "\n",
        "II)Do the following  preprocessing steps\n",
        "\n",
        "a. Stop Word Removal  \n",
        "\n",
        "b. Stemming  \n",
        "\n",
        "c. Removal of punctuation marks  \n",
        "\n",
        "d. Compute the inverse document frequency of the words in the document  \n",
        "\n",
        "e. Store the tokens in a file\n",
        "\n",
        "II. Take another 10 pdf file on related topic  and do the above preprocessing\n",
        "\n",
        "III. Find the similarity matrix  using cosine similarity\n",
        "\n",
        "IV use the similarity matrix to find top-3 related documents"
      ]
    },
    {
      "cell_type": "code",
      "source": [
        "!pip install pypdf"
      ],
      "metadata": {
        "colab": {
          "base_uri": "https://localhost:8080/"
        },
        "id": "5iPplXvY-gmb",
        "outputId": "884fc0c7-074d-49c1-edf4-b2e12ee228ab"
      },
      "execution_count": 62,
      "outputs": [
        {
          "output_type": "stream",
          "name": "stdout",
          "text": [
            "Requirement already satisfied: pypdf in /usr/local/lib/python3.10/dist-packages (5.1.0)\n",
            "Requirement already satisfied: typing_extensions>=4.0 in /usr/local/lib/python3.10/dist-packages (from pypdf) (4.12.2)\n"
          ]
        }
      ]
    },
    {
      "cell_type": "code",
      "source": [
        "!pip install nltk"
      ],
      "metadata": {
        "colab": {
          "base_uri": "https://localhost:8080/"
        },
        "id": "V6ixAhEY-isj",
        "outputId": "bba7cc03-483c-4b3f-8406-4f2982b72a09"
      },
      "execution_count": 63,
      "outputs": [
        {
          "output_type": "stream",
          "name": "stdout",
          "text": [
            "Requirement already satisfied: nltk in /usr/local/lib/python3.10/dist-packages (3.8.1)\n",
            "Requirement already satisfied: click in /usr/local/lib/python3.10/dist-packages (from nltk) (8.1.7)\n",
            "Requirement already satisfied: joblib in /usr/local/lib/python3.10/dist-packages (from nltk) (1.4.2)\n",
            "Requirement already satisfied: regex>=2021.8.3 in /usr/local/lib/python3.10/dist-packages (from nltk) (2024.9.11)\n",
            "Requirement already satisfied: tqdm in /usr/local/lib/python3.10/dist-packages (from nltk) (4.66.6)\n"
          ]
        }
      ]
    },
    {
      "cell_type": "code",
      "execution_count": 64,
      "metadata": {
        "colab": {
          "base_uri": "https://localhost:8080/"
        },
        "id": "Z8QwK4PfC6qW",
        "outputId": "b01f5cba-10e8-45c2-e039-b2a4637b839c"
      },
      "outputs": [
        {
          "output_type": "stream",
          "name": "stderr",
          "text": [
            "[nltk_data] Downloading package stopwords to /root/nltk_data...\n",
            "[nltk_data]   Package stopwords is already up-to-date!\n",
            "[nltk_data] Downloading package punkt to /root/nltk_data...\n",
            "[nltk_data]   Package punkt is already up-to-date!\n"
          ]
        }
      ],
      "source": [
        "import pandas as pd\n",
        "from pypdf import PdfReader\n",
        "from nltk.corpus import stopwords\n",
        "from nltk.tokenize import sent_tokenize, word_tokenize\n",
        "import nltk\n",
        "nltk.download('stopwords')\n",
        "nltk.download('punkt')\n",
        "from nltk.stem import PorterStemmer\n",
        "import string\n",
        "import numpy as np"
      ]
    },
    {
      "cell_type": "markdown",
      "metadata": {
        "id": "Q_IpTTLV-VL5"
      },
      "source": [
        "Reading Pdf"
      ]
    },
    {
      "cell_type": "code",
      "execution_count": 65,
      "metadata": {
        "id": "dtHwx9uc2aVU"
      },
      "outputs": [],
      "source": [
        "reader = PdfReader('text.pdf')"
      ]
    },
    {
      "cell_type": "code",
      "execution_count": 66,
      "metadata": {
        "colab": {
          "base_uri": "https://localhost:8080/"
        },
        "id": "G92YdZap2j5S",
        "outputId": "60f5155a-1466-43fa-b8cc-f9611b352013"
      },
      "outputs": [
        {
          "output_type": "execute_result",
          "data": {
            "text/plain": [
              "1"
            ]
          },
          "metadata": {},
          "execution_count": 66
        }
      ],
      "source": [
        "pages =  len(reader.pages)\n",
        "pages"
      ]
    },
    {
      "cell_type": "code",
      "execution_count": 67,
      "metadata": {
        "colab": {
          "base_uri": "https://localhost:8080/"
        },
        "id": "aGww_LHw2mpK",
        "outputId": "85b82e6b-94d6-480b-d61e-4a2af569f36c"
      },
      "outputs": [
        {
          "output_type": "stream",
          "name": "stdout",
          "text": [
            "In the heart of a bustling city, a small rooftop garden oﬀers a breath of fresh air. Amid skyscrapers \n",
            "and endless noise, it’s a hidden oasis ﬁlled with herbs, ﬂowers, and even a small fountain. Every \n",
            "morning, a few city-dwellers escape here to sip coﬀee and unwind. The scent of lavender mingles \n",
            "with the crisp air, creating a sense of calm. In a world of concrete, this little garden reminds them \n",
            "to slow down and breathe.\n"
          ]
        }
      ],
      "source": [
        "page = reader.pages[0]\n",
        "page_text = page.extract_text()\n",
        "print(page_text)"
      ]
    },
    {
      "cell_type": "code",
      "execution_count": 68,
      "metadata": {
        "id": "e-ok2uNA2oik"
      },
      "outputs": [],
      "source": [
        "stopWords = set(stopwords.words(\"english\"))"
      ]
    },
    {
      "cell_type": "markdown",
      "metadata": {
        "id": "nGbSMgUt-VL6"
      },
      "source": [
        "Stop Word Removal  "
      ]
    },
    {
      "cell_type": "code",
      "execution_count": 69,
      "metadata": {
        "id": "ZSzoeBZ22rbS"
      },
      "outputs": [],
      "source": [
        "tokenized_words = word_tokenize(page_text)\n",
        "filtered_words = [word for word in tokenized_words if word.lower() not in stopWords]"
      ]
    },
    {
      "cell_type": "code",
      "execution_count": 70,
      "metadata": {
        "colab": {
          "base_uri": "https://localhost:8080/"
        },
        "id": "GyE7rJGa2ry_",
        "outputId": "b31cd9b1-2df2-405b-8aad-010818dacfc7"
      },
      "outputs": [
        {
          "output_type": "stream",
          "name": "stdout",
          "text": [
            "['heart', 'bustling', 'city', ',', 'small', 'rooftop', 'garden', 'oﬀers', 'breath', 'fresh', 'air', '.', 'Amid', 'skyscrapers', 'endless', 'noise', ',', '’', 'hidden', 'oasis', 'ﬁlled', 'herbs', ',', 'ﬂowers', ',', 'even', 'small', 'fountain', '.', 'Every', 'morning', ',', 'city-dwellers', 'escape', 'sip', 'coﬀee', 'unwind', '.', 'scent', 'lavender', 'mingles', 'crisp', 'air', ',', 'creating', 'sense', 'calm', '.', 'world', 'concrete', ',', 'little', 'garden', 'reminds', 'slow', 'breathe', '.']\n"
          ]
        }
      ],
      "source": [
        "print(filtered_words)"
      ]
    },
    {
      "cell_type": "markdown",
      "metadata": {
        "id": "KGrBAQc_-VL6"
      },
      "source": [
        "Stemming  "
      ]
    },
    {
      "cell_type": "code",
      "execution_count": 71,
      "metadata": {
        "colab": {
          "base_uri": "https://localhost:8080/"
        },
        "id": "ns0GXLfl2uO6",
        "outputId": "de84ef81-f41c-4abb-ec5d-2a0909fcaf61"
      },
      "outputs": [
        {
          "output_type": "stream",
          "name": "stdout",
          "text": [
            "['heart', 'bustl', 'citi', ',', 'small', 'rooftop', 'garden', 'oﬀer', 'breath', 'fresh', 'air', '.', 'amid', 'skyscrap', 'endless', 'nois', ',', '’', 'hidden', 'oasi', 'ﬁlled', 'herb', ',', 'ﬂower', ',', 'even', 'small', 'fountain', '.', 'everi', 'morn', ',', 'city-dwel', 'escap', 'sip', 'coﬀe', 'unwind', '.', 'scent', 'lavend', 'mingl', 'crisp', 'air', ',', 'creat', 'sens', 'calm', '.', 'world', 'concret', ',', 'littl', 'garden', 'remind', 'slow', 'breath', '.']\n"
          ]
        }
      ],
      "source": [
        "stemmer = PorterStemmer()\n",
        "stemmed_words = [stemmer.stem(word) for word in filtered_words]\n",
        "print(stemmed_words)"
      ]
    },
    {
      "cell_type": "markdown",
      "metadata": {
        "id": "sPsvMtO7-VL6"
      },
      "source": [
        "Removal of punctuation marks  "
      ]
    },
    {
      "cell_type": "code",
      "execution_count": 72,
      "metadata": {
        "colab": {
          "base_uri": "https://localhost:8080/"
        },
        "id": "cmT2MVzb22LQ",
        "outputId": "076fa3cf-64ea-433e-9b74-bc1f7e81f09e"
      },
      "outputs": [
        {
          "output_type": "stream",
          "name": "stdout",
          "text": [
            "['heart', 'bustl', 'citi', 'small', 'rooftop', 'garden', 'oﬀer', 'breath', 'fresh', 'air', 'amid', 'skyscrap', 'endless', 'nois', '’', 'hidden', 'oasi', 'ﬁlled', 'herb', 'ﬂower', 'even', 'small', 'fountain', 'everi', 'morn', 'city-dwel', 'escap', 'sip', 'coﬀe', 'unwind', 'scent', 'lavend', 'mingl', 'crisp', 'air', 'creat', 'sens', 'calm', 'world', 'concret', 'littl', 'garden', 'remind', 'slow', 'breath']\n"
          ]
        }
      ],
      "source": [
        "final_words = [word for word in stemmed_words if word not in string.punctuation]\n",
        "print(final_words)\n"
      ]
    },
    {
      "cell_type": "markdown",
      "metadata": {
        "id": "H-naviex-VL7"
      },
      "source": [
        "Peforming Same Pre-Processing Steps For another 10 files"
      ]
    },
    {
      "cell_type": "code",
      "execution_count": 73,
      "metadata": {
        "id": "TKRTHqzumtDX"
      },
      "outputs": [],
      "source": [
        "def preProcessing(pdf):\n",
        "    reader = PdfReader(pdf)\n",
        "    page = reader.pages[0] # Since all pdfs have only 1 page\n",
        "    page_text = page.extract_text()\n",
        "    print(\"\\n\")\n",
        "    print('------------------------------------------------------------------------------------------------------------------------')\n",
        "    print(f\"Text  From {pdf}\")\n",
        "    print(page_text)\n",
        "    print(\"\\n\\n\")\n",
        "\n",
        "    # Stop Word Removal\n",
        "    stopWords = set(stopwords.words(\"english\"))\n",
        "    tokenized_words = word_tokenize(page_text)\n",
        "    filtered_words = [word for word in tokenized_words if word.lower() not in stopWords]\n",
        "\n",
        "    # Stemming\n",
        "    stemmer = PorterStemmer()\n",
        "    stemmed_words = [stemmer.stem(word) for word in filtered_words]\n",
        "\n",
        "    # Removal of punctuation marks\n",
        "    final_words = [word for word in stemmed_words if word not in string.punctuation]\n",
        "    print(\"Results\")\n",
        "    print(\"\\n\")\n",
        "    print(final_words)\n",
        "\n",
        "    print('\\n')\n",
        "    print(f\"{pdf} is done\")\n",
        "    return final_words"
      ]
    },
    {
      "cell_type": "markdown",
      "metadata": {
        "id": "dsswwmB7-VL7"
      },
      "source": [
        "Storing Result For IDF(Inverse Document Frequency)"
      ]
    },
    {
      "cell_type": "code",
      "execution_count": 74,
      "metadata": {
        "colab": {
          "base_uri": "https://localhost:8080/"
        },
        "id": "qSR_cBRumxYX",
        "outputId": "3f562d7a-bd2a-4ed1-aa48-5f080ad087d7"
      },
      "outputs": [
        {
          "output_type": "stream",
          "name": "stdout",
          "text": [
            "\n",
            "\n",
            "------------------------------------------------------------------------------------------------------------------------\n",
            "Text  From text1.pdf\n",
            "Climate change refers to long-term shifts in temperatures and weather patterns, primarily due to \n",
            "human activities like burning fossil fuels, deforestation, and industrial processes. These actions \n",
            "release greenhouse gases into the atmosphere, which trap heat and raise global temperatures. This \n",
            "warming impacts ecosystems, weather patterns, and sea levels, creating challenges for biodiversity, \n",
            "agriculture, and human health worldwide.\n",
            "\n",
            "\n",
            "\n",
            "Results\n",
            "\n",
            "\n",
            "['climat', 'chang', 'refer', 'long-term', 'shift', 'temperatur', 'weather', 'pattern', 'primarili', 'due', 'human', 'activ', 'like', 'burn', 'fossil', 'fuel', 'deforest', 'industri', 'process', 'action', 'releas', 'greenhous', 'gase', 'atmospher', 'trap', 'heat', 'rais', 'global', 'temperatur', 'warm', 'impact', 'ecosystem', 'weather', 'pattern', 'sea', 'level', 'creat', 'challeng', 'biodivers', 'agricultur', 'human', 'health', 'worldwid']\n",
            "\n",
            "\n",
            "text1.pdf is done\n",
            "\n",
            "\n",
            "------------------------------------------------------------------------------------------------------------------------\n",
            "Text  From text2.pdf\n",
            "Rising temperatures are a key aspect of climate change, leading to severe consequences such as \n",
            "melting glaciers, rising sea levels, and more intense weather events. As ice sheets in polar regions \n",
            "shrink, sea levels rise, putting coastal communities at risk of ﬂooding and erosion. This \n",
            "phenomenon is not only altering landscapes but also threatening the habitats of countless species.\n",
            "\n",
            "\n",
            "\n",
            "Results\n",
            "\n",
            "\n",
            "['rise', 'temperatur', 'key', 'aspect', 'climat', 'chang', 'lead', 'sever', 'consequ', 'melt', 'glacier', 'rise', 'sea', 'level', 'intens', 'weather', 'event', 'ice', 'sheet', 'polar', 'region', 'shrink', 'sea', 'level', 'rise', 'put', 'coastal', 'commun', 'risk', 'ﬂood', 'eros', 'phenomenon', 'alter', 'landscap', 'also', 'threaten', 'habitat', 'countless', 'speci']\n",
            "\n",
            "\n",
            "text2.pdf is done\n",
            "\n",
            "\n",
            "------------------------------------------------------------------------------------------------------------------------\n",
            "Text  From text3.pdf\n",
            "The effects of climate change are evident in the warming of oceans, which impacts marine life and \n",
            "global weather patterns. Higher ocean temperatures lead to coral bleaching, harming marine \n",
            "biodiversity and disrupting the food chain. Additionally, warmer oceans contribute to the \n",
            "intensiﬁcation of tropical storms, which can have devastating effects on communities and \n",
            "ecosystems.\n",
            "\n",
            "\n",
            "\n",
            "Results\n",
            "\n",
            "\n",
            "['effect', 'climat', 'chang', 'evid', 'warm', 'ocean', 'impact', 'marin', 'life', 'global', 'weather', 'pattern', 'higher', 'ocean', 'temperatur', 'lead', 'coral', 'bleach', 'harm', 'marin', 'biodivers', 'disrupt', 'food', 'chain', 'addit', 'warmer', 'ocean', 'contribut', 'intensiﬁc', 'tropic', 'storm', 'devast', 'effect', 'commun', 'ecosystem']\n",
            "\n",
            "\n",
            "text3.pdf is done\n",
            "\n",
            "\n",
            "------------------------------------------------------------------------------------------------------------------------\n",
            "Text  From text4.pdf\n",
            "Extreme weather events, including hurricanes, droughts, and wildﬁres, have become more frequent \n",
            "and intense as a result of climate change. These disasters pose signiﬁcant risks to human lives, \n",
            "infrastructure, and natural ecosystems. The increased unpredictability in weather patterns also \n",
            "disrupts agricultural cycles, making food production more vulnerable to climate-related setbacks.\n",
            "\n",
            "\n",
            "\n",
            "Results\n",
            "\n",
            "\n",
            "['extrem', 'weather', 'event', 'includ', 'hurrican', 'drought', 'wildﬁr', 'becom', 'frequent', 'intens', 'result', 'climat', 'chang', 'disast', 'pose', 'signiﬁc', 'risk', 'human', 'live', 'infrastructur', 'natur', 'ecosystem', 'increas', 'unpredict', 'weather', 'pattern', 'also', 'disrupt', 'agricultur', 'cycl', 'make', 'food', 'product', 'vulner', 'climate-rel', 'setback']\n",
            "\n",
            "\n",
            "text4.pdf is done\n",
            "\n",
            "\n",
            "------------------------------------------------------------------------------------------------------------------------\n",
            "Text  From text5.pdf\n",
            "Deforestation accelerates climate change by reducing the Earth’s ability to absorb carbon dioxide. \n",
            "Forests act as carbon sinks, storing large amounts of carbon that would otherwise contribute to \n",
            "atmospheric greenhouse gases. When trees are cut down, not only is this storage capacity reduced, \n",
            "but carbon stored in trees is also released, further contributing to the warming of the planet.\n",
            "\n",
            "\n",
            "\n",
            "Results\n",
            "\n",
            "\n",
            "['deforest', 'acceler', 'climat', 'chang', 'reduc', 'earth', '’', 'abil', 'absorb', 'carbon', 'dioxid', 'forest', 'act', 'carbon', 'sink', 'store', 'larg', 'amount', 'carbon', 'would', 'otherwis', 'contribut', 'atmospher', 'greenhous', 'gase', 'tree', 'cut', 'storag', 'capac', 'reduc', 'carbon', 'store', 'tree', 'also', 'releas', 'contribut', 'warm', 'planet']\n",
            "\n",
            "\n",
            "text5.pdf is done\n",
            "\n",
            "\n",
            "------------------------------------------------------------------------------------------------------------------------\n",
            "Text  From text6.pdf\n",
            "Greenhouse gases, such as carbon dioxide, methane, and nitrous oxide, are major contributors to \n",
            "global warming. These gases trap heat in the Earth’s atmosphere, creating a “greenhouse effect” that \n",
            "raises global temperatures. Reducing emissions from sources like transportation, industry, and \n",
            "agriculture is essential to slowing the rate of climate change and mitigating its impacts.\n",
            "\n",
            "\n",
            "\n",
            "Results\n",
            "\n",
            "\n",
            "['greenhous', 'gase', 'carbon', 'dioxid', 'methan', 'nitrou', 'oxid', 'major', 'contributor', 'global', 'warm', 'gase', 'trap', 'heat', 'earth', '’', 'atmospher', 'creat', '“', 'greenhous', 'effect', '”', 'rais', 'global', 'temperatur', 'reduc', 'emiss', 'sourc', 'like', 'transport', 'industri', 'agricultur', 'essenti', 'slow', 'rate', 'climat', 'chang', 'mitig', 'impact']\n",
            "\n",
            "\n",
            "text6.pdf is done\n",
            "\n",
            "\n",
            "------------------------------------------------------------------------------------------------------------------------\n",
            "Text  From text7.pdf\n",
            "Melting permafrost is a signiﬁcant effect of climate change, releasing large amounts of stored \n",
            "carbon and methane into the atmosphere. As Arctic and sub-Arctic regions warm, permafrost thaws, \n",
            "releasing these greenhouse gases and accelerating global warming. This process is a feedback loop, \n",
            "where warming leads to more emissions, which further contribute to climate change.\n",
            "\n",
            "\n",
            "\n",
            "Results\n",
            "\n",
            "\n",
            "['melt', 'permafrost', 'signiﬁc', 'effect', 'climat', 'chang', 'releas', 'larg', 'amount', 'store', 'carbon', 'methan', 'atmospher', 'arctic', 'sub-arct', 'region', 'warm', 'permafrost', 'thaw', 'releas', 'greenhous', 'gase', 'acceler', 'global', 'warm', 'process', 'feedback', 'loop', 'warm', 'lead', 'emiss', 'contribut', 'climat', 'chang']\n",
            "\n",
            "\n",
            "text7.pdf is done\n",
            "\n",
            "\n",
            "------------------------------------------------------------------------------------------------------------------------\n",
            "Text  From text8.pdf\n",
            "Climate change poses a threat to biodiversity as species struggle to adapt to shifting conditions. \n",
            "Many animals and plants are forced to migrate to cooler areas, but for some, suitable habitats are \n",
            "disappearing. Changes in temperature and weather also affect breeding cycles, food availability, and \n",
            "the survival of young animals, putting numerous species at risk of extinction.\n",
            "\n",
            "\n",
            "\n",
            "Results\n",
            "\n",
            "\n",
            "['climat', 'chang', 'pose', 'threat', 'biodivers', 'speci', 'struggl', 'adapt', 'shift', 'condit', 'mani', 'anim', 'plant', 'forc', 'migrat', 'cooler', 'area', 'suitabl', 'habitat', 'disappear', 'chang', 'temperatur', 'weather', 'also', 'affect', 'breed', 'cycl', 'food', 'avail', 'surviv', 'young', 'anim', 'put', 'numer', 'speci', 'risk', 'extinct']\n",
            "\n",
            "\n",
            "text8.pdf is done\n",
            "\n",
            "\n",
            "------------------------------------------------------------------------------------------------------------------------\n",
            "Text  From text9.pdf\n",
            "Human health is increasingly affected by climate change, with rising temperatures leading to \n",
            "heatwaves, worsened air quality, and the spread of diseases. Heat-related illnesses are becoming \n",
            "more common, and respiratory issues are exacerbated by pollution and wildﬁres. Furthermore, \n",
            "warmer climates allow for the spread of vector-borne diseases, posing additional health risks \n",
            "worldwide.\n",
            "\n",
            "\n",
            "\n",
            "Results\n",
            "\n",
            "\n",
            "['human', 'health', 'increasingli', 'affect', 'climat', 'chang', 'rise', 'temperatur', 'lead', 'heatwav', 'worsen', 'air', 'qualiti', 'spread', 'diseas', 'heat-rel', 'ill', 'becom', 'common', 'respiratori', 'issu', 'exacerb', 'pollut', 'wildﬁr', 'furthermor', 'warmer', 'climat', 'allow', 'spread', 'vector-born', 'diseas', 'pose', 'addit', 'health', 'risk', 'worldwid']\n",
            "\n",
            "\n",
            "text9.pdf is done\n",
            "\n",
            "\n",
            "------------------------------------------------------------------------------------------------------------------------\n",
            "Text  From text10.pdf\n",
            "Climate change has economic consequences, impacting sectors such as agriculture, ﬁsheries, and \n",
            "tourism. Crop yields are threatened by unpredictable weather, ﬁsheries suffer from changing ocean \n",
            "temperatures, and natural disasters disrupt tourism in affected areas. These economic impacts often \n",
            "disproportionately affect low-income communities, highlighting the need for equitable climate \n",
            "action and adaptation strategies.\n",
            "\n",
            "\n",
            "\n",
            "Results\n",
            "\n",
            "\n",
            "['climat', 'chang', 'econom', 'consequ', 'impact', 'sector', 'agricultur', 'ﬁsheri', 'tourism', 'crop', 'yield', 'threaten', 'unpredict', 'weather', 'ﬁsheri', 'suffer', 'chang', 'ocean', 'temperatur', 'natur', 'disast', 'disrupt', 'tourism', 'affect', 'area', 'econom', 'impact', 'often', 'disproportion', 'affect', 'low-incom', 'commun', 'highlight', 'need', 'equit', 'climat', 'action', 'adapt', 'strategi']\n",
            "\n",
            "\n",
            "text10.pdf is done\n"
          ]
        }
      ],
      "source": [
        "documents = []\n",
        "N = 0 # Number of Documents\n",
        "\n",
        "for i in range(1,11):\n",
        "    filename = f'text{i}.pdf'\n",
        "    result = preProcessing(filename)\n",
        "    N += 1\n",
        "    documents.append(set(result)) # list which contains sets of diffrent documents tokens\n"
      ]
    },
    {
      "cell_type": "code",
      "execution_count": 75,
      "metadata": {
        "colab": {
          "base_uri": "https://localhost:8080/"
        },
        "id": "VPAWOLPhn4ON",
        "outputId": "cb4257d0-0ba3-44a9-c98b-40e4aca602cd"
      },
      "outputs": [
        {
          "output_type": "execute_result",
          "data": {
            "text/plain": [
              "[{'action',\n",
              "  'activ',\n",
              "  'agricultur',\n",
              "  'atmospher',\n",
              "  'biodivers',\n",
              "  'burn',\n",
              "  'challeng',\n",
              "  'chang',\n",
              "  'climat',\n",
              "  'creat',\n",
              "  'deforest',\n",
              "  'due',\n",
              "  'ecosystem',\n",
              "  'fossil',\n",
              "  'fuel',\n",
              "  'gase',\n",
              "  'global',\n",
              "  'greenhous',\n",
              "  'health',\n",
              "  'heat',\n",
              "  'human',\n",
              "  'impact',\n",
              "  'industri',\n",
              "  'level',\n",
              "  'like',\n",
              "  'long-term',\n",
              "  'pattern',\n",
              "  'primarili',\n",
              "  'process',\n",
              "  'rais',\n",
              "  'refer',\n",
              "  'releas',\n",
              "  'sea',\n",
              "  'shift',\n",
              "  'temperatur',\n",
              "  'trap',\n",
              "  'warm',\n",
              "  'weather',\n",
              "  'worldwid'},\n",
              " {'also',\n",
              "  'alter',\n",
              "  'aspect',\n",
              "  'chang',\n",
              "  'climat',\n",
              "  'coastal',\n",
              "  'commun',\n",
              "  'consequ',\n",
              "  'countless',\n",
              "  'eros',\n",
              "  'event',\n",
              "  'glacier',\n",
              "  'habitat',\n",
              "  'ice',\n",
              "  'intens',\n",
              "  'key',\n",
              "  'landscap',\n",
              "  'lead',\n",
              "  'level',\n",
              "  'melt',\n",
              "  'phenomenon',\n",
              "  'polar',\n",
              "  'put',\n",
              "  'region',\n",
              "  'rise',\n",
              "  'risk',\n",
              "  'sea',\n",
              "  'sever',\n",
              "  'sheet',\n",
              "  'shrink',\n",
              "  'speci',\n",
              "  'temperatur',\n",
              "  'threaten',\n",
              "  'weather',\n",
              "  'ﬂood'},\n",
              " {'addit',\n",
              "  'biodivers',\n",
              "  'bleach',\n",
              "  'chain',\n",
              "  'chang',\n",
              "  'climat',\n",
              "  'commun',\n",
              "  'contribut',\n",
              "  'coral',\n",
              "  'devast',\n",
              "  'disrupt',\n",
              "  'ecosystem',\n",
              "  'effect',\n",
              "  'evid',\n",
              "  'food',\n",
              "  'global',\n",
              "  'harm',\n",
              "  'higher',\n",
              "  'impact',\n",
              "  'intensiﬁc',\n",
              "  'lead',\n",
              "  'life',\n",
              "  'marin',\n",
              "  'ocean',\n",
              "  'pattern',\n",
              "  'storm',\n",
              "  'temperatur',\n",
              "  'tropic',\n",
              "  'warm',\n",
              "  'warmer',\n",
              "  'weather'},\n",
              " {'agricultur',\n",
              "  'also',\n",
              "  'becom',\n",
              "  'chang',\n",
              "  'climat',\n",
              "  'climate-rel',\n",
              "  'cycl',\n",
              "  'disast',\n",
              "  'disrupt',\n",
              "  'drought',\n",
              "  'ecosystem',\n",
              "  'event',\n",
              "  'extrem',\n",
              "  'food',\n",
              "  'frequent',\n",
              "  'human',\n",
              "  'hurrican',\n",
              "  'includ',\n",
              "  'increas',\n",
              "  'infrastructur',\n",
              "  'intens',\n",
              "  'live',\n",
              "  'make',\n",
              "  'natur',\n",
              "  'pattern',\n",
              "  'pose',\n",
              "  'product',\n",
              "  'result',\n",
              "  'risk',\n",
              "  'setback',\n",
              "  'signiﬁc',\n",
              "  'unpredict',\n",
              "  'vulner',\n",
              "  'weather',\n",
              "  'wildﬁr'},\n",
              " {'abil',\n",
              "  'absorb',\n",
              "  'acceler',\n",
              "  'act',\n",
              "  'also',\n",
              "  'amount',\n",
              "  'atmospher',\n",
              "  'capac',\n",
              "  'carbon',\n",
              "  'chang',\n",
              "  'climat',\n",
              "  'contribut',\n",
              "  'cut',\n",
              "  'deforest',\n",
              "  'dioxid',\n",
              "  'earth',\n",
              "  'forest',\n",
              "  'gase',\n",
              "  'greenhous',\n",
              "  'larg',\n",
              "  'otherwis',\n",
              "  'planet',\n",
              "  'reduc',\n",
              "  'releas',\n",
              "  'sink',\n",
              "  'storag',\n",
              "  'store',\n",
              "  'tree',\n",
              "  'warm',\n",
              "  'would',\n",
              "  '’'},\n",
              " {'agricultur',\n",
              "  'atmospher',\n",
              "  'carbon',\n",
              "  'chang',\n",
              "  'climat',\n",
              "  'contributor',\n",
              "  'creat',\n",
              "  'dioxid',\n",
              "  'earth',\n",
              "  'effect',\n",
              "  'emiss',\n",
              "  'essenti',\n",
              "  'gase',\n",
              "  'global',\n",
              "  'greenhous',\n",
              "  'heat',\n",
              "  'impact',\n",
              "  'industri',\n",
              "  'like',\n",
              "  'major',\n",
              "  'methan',\n",
              "  'mitig',\n",
              "  'nitrou',\n",
              "  'oxid',\n",
              "  'rais',\n",
              "  'rate',\n",
              "  'reduc',\n",
              "  'slow',\n",
              "  'sourc',\n",
              "  'temperatur',\n",
              "  'transport',\n",
              "  'trap',\n",
              "  'warm',\n",
              "  '’',\n",
              "  '“',\n",
              "  '”'},\n",
              " {'acceler',\n",
              "  'amount',\n",
              "  'arctic',\n",
              "  'atmospher',\n",
              "  'carbon',\n",
              "  'chang',\n",
              "  'climat',\n",
              "  'contribut',\n",
              "  'effect',\n",
              "  'emiss',\n",
              "  'feedback',\n",
              "  'gase',\n",
              "  'global',\n",
              "  'greenhous',\n",
              "  'larg',\n",
              "  'lead',\n",
              "  'loop',\n",
              "  'melt',\n",
              "  'methan',\n",
              "  'permafrost',\n",
              "  'process',\n",
              "  'region',\n",
              "  'releas',\n",
              "  'signiﬁc',\n",
              "  'store',\n",
              "  'sub-arct',\n",
              "  'thaw',\n",
              "  'warm'},\n",
              " {'adapt',\n",
              "  'affect',\n",
              "  'also',\n",
              "  'anim',\n",
              "  'area',\n",
              "  'avail',\n",
              "  'biodivers',\n",
              "  'breed',\n",
              "  'chang',\n",
              "  'climat',\n",
              "  'condit',\n",
              "  'cooler',\n",
              "  'cycl',\n",
              "  'disappear',\n",
              "  'extinct',\n",
              "  'food',\n",
              "  'forc',\n",
              "  'habitat',\n",
              "  'mani',\n",
              "  'migrat',\n",
              "  'numer',\n",
              "  'plant',\n",
              "  'pose',\n",
              "  'put',\n",
              "  'risk',\n",
              "  'shift',\n",
              "  'speci',\n",
              "  'struggl',\n",
              "  'suitabl',\n",
              "  'surviv',\n",
              "  'temperatur',\n",
              "  'threat',\n",
              "  'weather',\n",
              "  'young'},\n",
              " {'addit',\n",
              "  'affect',\n",
              "  'air',\n",
              "  'allow',\n",
              "  'becom',\n",
              "  'chang',\n",
              "  'climat',\n",
              "  'common',\n",
              "  'diseas',\n",
              "  'exacerb',\n",
              "  'furthermor',\n",
              "  'health',\n",
              "  'heat-rel',\n",
              "  'heatwav',\n",
              "  'human',\n",
              "  'ill',\n",
              "  'increasingli',\n",
              "  'issu',\n",
              "  'lead',\n",
              "  'pollut',\n",
              "  'pose',\n",
              "  'qualiti',\n",
              "  'respiratori',\n",
              "  'rise',\n",
              "  'risk',\n",
              "  'spread',\n",
              "  'temperatur',\n",
              "  'vector-born',\n",
              "  'warmer',\n",
              "  'wildﬁr',\n",
              "  'worldwid',\n",
              "  'worsen'},\n",
              " {'action',\n",
              "  'adapt',\n",
              "  'affect',\n",
              "  'agricultur',\n",
              "  'area',\n",
              "  'chang',\n",
              "  'climat',\n",
              "  'commun',\n",
              "  'consequ',\n",
              "  'crop',\n",
              "  'disast',\n",
              "  'disproportion',\n",
              "  'disrupt',\n",
              "  'econom',\n",
              "  'equit',\n",
              "  'highlight',\n",
              "  'impact',\n",
              "  'low-incom',\n",
              "  'natur',\n",
              "  'need',\n",
              "  'ocean',\n",
              "  'often',\n",
              "  'sector',\n",
              "  'strategi',\n",
              "  'suffer',\n",
              "  'temperatur',\n",
              "  'threaten',\n",
              "  'tourism',\n",
              "  'unpredict',\n",
              "  'weather',\n",
              "  'yield',\n",
              "  'ﬁsheri'}]"
            ]
          },
          "metadata": {},
          "execution_count": 75
        }
      ],
      "source": [
        "documents"
      ]
    },
    {
      "cell_type": "code",
      "execution_count": 76,
      "metadata": {
        "id": "ggz1nlVQoFu_"
      },
      "outputs": [],
      "source": [
        "token_documnet_freq = {}\n",
        "# Counting Frequency of each token in documents\n",
        "for doc_tokens in documents:\n",
        "    for token in doc_tokens:\n",
        "        if token in token_documnet_freq:\n",
        "            token_documnet_freq[token] += 1\n",
        "        else:\n",
        "            token_documnet_freq[token] = 1\n"
      ]
    },
    {
      "cell_type": "code",
      "execution_count": 77,
      "metadata": {
        "colab": {
          "base_uri": "https://localhost:8080/"
        },
        "id": "PNJPtNvCpF66",
        "outputId": "40a67b18-f6e4-48dd-8a72-b936e85eef18"
      },
      "outputs": [
        {
          "output_type": "execute_result",
          "data": {
            "text/plain": [
              "{'due': 1,\n",
              " 'pattern': 3,\n",
              " 'refer': 1,\n",
              " 'process': 2,\n",
              " 'burn': 1,\n",
              " 'warm': 5,\n",
              " 'deforest': 2,\n",
              " 'primarili': 1,\n",
              " 'agricultur': 4,\n",
              " 'climat': 10,\n",
              " 'ecosystem': 3,\n",
              " 'releas': 3,\n",
              " 'sea': 2,\n",
              " 'fuel': 1,\n",
              " 'human': 3,\n",
              " 'action': 2,\n",
              " 'health': 2,\n",
              " 'trap': 2,\n",
              " 'shift': 2,\n",
              " 'like': 2,\n",
              " 'heat': 2,\n",
              " 'activ': 1,\n",
              " 'greenhous': 4,\n",
              " 'chang': 10,\n",
              " 'creat': 2,\n",
              " 'impact': 4,\n",
              " 'weather': 6,\n",
              " 'temperatur': 7,\n",
              " 'challeng': 1,\n",
              " 'industri': 2,\n",
              " 'rais': 2,\n",
              " 'level': 2,\n",
              " 'worldwid': 2,\n",
              " 'atmospher': 4,\n",
              " 'global': 4,\n",
              " 'fossil': 1,\n",
              " 'gase': 4,\n",
              " 'biodivers': 3,\n",
              " 'long-term': 1,\n",
              " 'alter': 1,\n",
              " 'melt': 2,\n",
              " 'ﬂood': 1,\n",
              " 'aspect': 1,\n",
              " 'also': 4,\n",
              " 'region': 2,\n",
              " 'commun': 3,\n",
              " 'landscap': 1,\n",
              " 'shrink': 1,\n",
              " 'sheet': 1,\n",
              " 'habitat': 2,\n",
              " 'countless': 1,\n",
              " 'consequ': 2,\n",
              " 'glacier': 1,\n",
              " 'lead': 4,\n",
              " 'phenomenon': 1,\n",
              " 'risk': 4,\n",
              " 'event': 2,\n",
              " 'eros': 1,\n",
              " 'threaten': 2,\n",
              " 'polar': 1,\n",
              " 'put': 2,\n",
              " 'coastal': 1,\n",
              " 'rise': 2,\n",
              " 'key': 1,\n",
              " 'ice': 1,\n",
              " 'sever': 1,\n",
              " 'speci': 2,\n",
              " 'intens': 2,\n",
              " 'storm': 1,\n",
              " 'marin': 1,\n",
              " 'bleach': 1,\n",
              " 'disrupt': 3,\n",
              " 'warmer': 2,\n",
              " 'intensiﬁc': 1,\n",
              " 'ocean': 2,\n",
              " 'food': 3,\n",
              " 'coral': 1,\n",
              " 'harm': 1,\n",
              " 'addit': 2,\n",
              " 'effect': 3,\n",
              " 'tropic': 1,\n",
              " 'evid': 1,\n",
              " 'contribut': 3,\n",
              " 'life': 1,\n",
              " 'chain': 1,\n",
              " 'devast': 1,\n",
              " 'higher': 1,\n",
              " 'disast': 2,\n",
              " 'includ': 1,\n",
              " 'live': 1,\n",
              " 'increas': 1,\n",
              " 'infrastructur': 1,\n",
              " 'vulner': 1,\n",
              " 'frequent': 1,\n",
              " 'setback': 1,\n",
              " 'result': 1,\n",
              " 'signiﬁc': 2,\n",
              " 'make': 1,\n",
              " 'unpredict': 2,\n",
              " 'wildﬁr': 2,\n",
              " 'hurrican': 1,\n",
              " 'natur': 2,\n",
              " 'becom': 2,\n",
              " 'drought': 1,\n",
              " 'extrem': 1,\n",
              " 'product': 1,\n",
              " 'cycl': 2,\n",
              " 'climate-rel': 1,\n",
              " 'pose': 3,\n",
              " '’': 2,\n",
              " 'carbon': 3,\n",
              " 'storag': 1,\n",
              " 'earth': 2,\n",
              " 'capac': 1,\n",
              " 'would': 1,\n",
              " 'absorb': 1,\n",
              " 'tree': 1,\n",
              " 'otherwis': 1,\n",
              " 'forest': 1,\n",
              " 'dioxid': 2,\n",
              " 'larg': 2,\n",
              " 'acceler': 2,\n",
              " 'cut': 1,\n",
              " 'act': 1,\n",
              " 'amount': 2,\n",
              " 'store': 2,\n",
              " 'sink': 1,\n",
              " 'abil': 1,\n",
              " 'planet': 1,\n",
              " 'reduc': 2,\n",
              " 'sourc': 1,\n",
              " '“': 1,\n",
              " 'slow': 1,\n",
              " 'oxid': 1,\n",
              " '”': 1,\n",
              " 'rate': 1,\n",
              " 'mitig': 1,\n",
              " 'transport': 1,\n",
              " 'methan': 2,\n",
              " 'emiss': 2,\n",
              " 'major': 1,\n",
              " 'nitrou': 1,\n",
              " 'contributor': 1,\n",
              " 'essenti': 1,\n",
              " 'thaw': 1,\n",
              " 'feedback': 1,\n",
              " 'sub-arct': 1,\n",
              " 'arctic': 1,\n",
              " 'loop': 1,\n",
              " 'permafrost': 1,\n",
              " 'mani': 1,\n",
              " 'breed': 1,\n",
              " 'numer': 1,\n",
              " 'plant': 1,\n",
              " 'extinct': 1,\n",
              " 'threat': 1,\n",
              " 'cooler': 1,\n",
              " 'affect': 3,\n",
              " 'disappear': 1,\n",
              " 'condit': 1,\n",
              " 'migrat': 1,\n",
              " 'area': 2,\n",
              " 'forc': 1,\n",
              " 'adapt': 2,\n",
              " 'anim': 1,\n",
              " 'young': 1,\n",
              " 'suitabl': 1,\n",
              " 'surviv': 1,\n",
              " 'avail': 1,\n",
              " 'struggl': 1,\n",
              " 'worsen': 1,\n",
              " 'furthermor': 1,\n",
              " 'issu': 1,\n",
              " 'heat-rel': 1,\n",
              " 'heatwav': 1,\n",
              " 'pollut': 1,\n",
              " 'allow': 1,\n",
              " 'spread': 1,\n",
              " 'common': 1,\n",
              " 'increasingli': 1,\n",
              " 'exacerb': 1,\n",
              " 'vector-born': 1,\n",
              " 'ill': 1,\n",
              " 'respiratori': 1,\n",
              " 'qualiti': 1,\n",
              " 'diseas': 1,\n",
              " 'air': 1,\n",
              " 'equit': 1,\n",
              " 'yield': 1,\n",
              " 'ﬁsheri': 1,\n",
              " 'highlight': 1,\n",
              " 'econom': 1,\n",
              " 'tourism': 1,\n",
              " 'suffer': 1,\n",
              " 'disproportion': 1,\n",
              " 'strategi': 1,\n",
              " 'sector': 1,\n",
              " 'need': 1,\n",
              " 'often': 1,\n",
              " 'low-incom': 1,\n",
              " 'crop': 1}"
            ]
          },
          "metadata": {},
          "execution_count": 77
        }
      ],
      "source": [
        "token_documnet_freq"
      ]
    },
    {
      "cell_type": "markdown",
      "metadata": {
        "id": "BrdIlgW_pKMy"
      },
      "source": [
        "Now IDF"
      ]
    },
    {
      "cell_type": "markdown",
      "metadata": {
        "id": "ucuDb0YZ-VL8"
      },
      "source": [
        "IDF(t) = Log(No of Documents / No of Documents contains that keyword)\n",
        "\n",
        "t = token\n"
      ]
    },
    {
      "cell_type": "code",
      "execution_count": 78,
      "metadata": {
        "id": "Q39PPp9npJ6x"
      },
      "outputs": [],
      "source": [
        "idf_values = {}\n",
        "\n",
        "for token, fq in token_documnet_freq.items():\n",
        "    idf_values[token] = np.log(N / fq)"
      ]
    },
    {
      "cell_type": "code",
      "execution_count": 79,
      "metadata": {
        "colab": {
          "base_uri": "https://localhost:8080/"
        },
        "id": "b68_6Fd8pnHY",
        "outputId": "421d38d5-da49-49eb-90d7-7463d012f626"
      },
      "outputs": [
        {
          "output_type": "execute_result",
          "data": {
            "text/plain": [
              "{'due': 2.302585092994046,\n",
              " 'pattern': 1.2039728043259361,\n",
              " 'refer': 2.302585092994046,\n",
              " 'process': 1.6094379124341003,\n",
              " 'burn': 2.302585092994046,\n",
              " 'warm': 0.6931471805599453,\n",
              " 'deforest': 1.6094379124341003,\n",
              " 'primarili': 2.302585092994046,\n",
              " 'agricultur': 0.9162907318741551,\n",
              " 'climat': 0.0,\n",
              " 'ecosystem': 1.2039728043259361,\n",
              " 'releas': 1.2039728043259361,\n",
              " 'sea': 1.6094379124341003,\n",
              " 'fuel': 2.302585092994046,\n",
              " 'human': 1.2039728043259361,\n",
              " 'action': 1.6094379124341003,\n",
              " 'health': 1.6094379124341003,\n",
              " 'trap': 1.6094379124341003,\n",
              " 'shift': 1.6094379124341003,\n",
              " 'like': 1.6094379124341003,\n",
              " 'heat': 1.6094379124341003,\n",
              " 'activ': 2.302585092994046,\n",
              " 'greenhous': 0.9162907318741551,\n",
              " 'chang': 0.0,\n",
              " 'creat': 1.6094379124341003,\n",
              " 'impact': 0.9162907318741551,\n",
              " 'weather': 0.5108256237659907,\n",
              " 'temperatur': 0.3566749439387324,\n",
              " 'challeng': 2.302585092994046,\n",
              " 'industri': 1.6094379124341003,\n",
              " 'rais': 1.6094379124341003,\n",
              " 'level': 1.6094379124341003,\n",
              " 'worldwid': 1.6094379124341003,\n",
              " 'atmospher': 0.9162907318741551,\n",
              " 'global': 0.9162907318741551,\n",
              " 'fossil': 2.302585092994046,\n",
              " 'gase': 0.9162907318741551,\n",
              " 'biodivers': 1.2039728043259361,\n",
              " 'long-term': 2.302585092994046,\n",
              " 'alter': 2.302585092994046,\n",
              " 'melt': 1.6094379124341003,\n",
              " 'ﬂood': 2.302585092994046,\n",
              " 'aspect': 2.302585092994046,\n",
              " 'also': 0.9162907318741551,\n",
              " 'region': 1.6094379124341003,\n",
              " 'commun': 1.2039728043259361,\n",
              " 'landscap': 2.302585092994046,\n",
              " 'shrink': 2.302585092994046,\n",
              " 'sheet': 2.302585092994046,\n",
              " 'habitat': 1.6094379124341003,\n",
              " 'countless': 2.302585092994046,\n",
              " 'consequ': 1.6094379124341003,\n",
              " 'glacier': 2.302585092994046,\n",
              " 'lead': 0.9162907318741551,\n",
              " 'phenomenon': 2.302585092994046,\n",
              " 'risk': 0.9162907318741551,\n",
              " 'event': 1.6094379124341003,\n",
              " 'eros': 2.302585092994046,\n",
              " 'threaten': 1.6094379124341003,\n",
              " 'polar': 2.302585092994046,\n",
              " 'put': 1.6094379124341003,\n",
              " 'coastal': 2.302585092994046,\n",
              " 'rise': 1.6094379124341003,\n",
              " 'key': 2.302585092994046,\n",
              " 'ice': 2.302585092994046,\n",
              " 'sever': 2.302585092994046,\n",
              " 'speci': 1.6094379124341003,\n",
              " 'intens': 1.6094379124341003,\n",
              " 'storm': 2.302585092994046,\n",
              " 'marin': 2.302585092994046,\n",
              " 'bleach': 2.302585092994046,\n",
              " 'disrupt': 1.2039728043259361,\n",
              " 'warmer': 1.6094379124341003,\n",
              " 'intensiﬁc': 2.302585092994046,\n",
              " 'ocean': 1.6094379124341003,\n",
              " 'food': 1.2039728043259361,\n",
              " 'coral': 2.302585092994046,\n",
              " 'harm': 2.302585092994046,\n",
              " 'addit': 1.6094379124341003,\n",
              " 'effect': 1.2039728043259361,\n",
              " 'tropic': 2.302585092994046,\n",
              " 'evid': 2.302585092994046,\n",
              " 'contribut': 1.2039728043259361,\n",
              " 'life': 2.302585092994046,\n",
              " 'chain': 2.302585092994046,\n",
              " 'devast': 2.302585092994046,\n",
              " 'higher': 2.302585092994046,\n",
              " 'disast': 1.6094379124341003,\n",
              " 'includ': 2.302585092994046,\n",
              " 'live': 2.302585092994046,\n",
              " 'increas': 2.302585092994046,\n",
              " 'infrastructur': 2.302585092994046,\n",
              " 'vulner': 2.302585092994046,\n",
              " 'frequent': 2.302585092994046,\n",
              " 'setback': 2.302585092994046,\n",
              " 'result': 2.302585092994046,\n",
              " 'signiﬁc': 1.6094379124341003,\n",
              " 'make': 2.302585092994046,\n",
              " 'unpredict': 1.6094379124341003,\n",
              " 'wildﬁr': 1.6094379124341003,\n",
              " 'hurrican': 2.302585092994046,\n",
              " 'natur': 1.6094379124341003,\n",
              " 'becom': 1.6094379124341003,\n",
              " 'drought': 2.302585092994046,\n",
              " 'extrem': 2.302585092994046,\n",
              " 'product': 2.302585092994046,\n",
              " 'cycl': 1.6094379124341003,\n",
              " 'climate-rel': 2.302585092994046,\n",
              " 'pose': 1.2039728043259361,\n",
              " '’': 1.6094379124341003,\n",
              " 'carbon': 1.2039728043259361,\n",
              " 'storag': 2.302585092994046,\n",
              " 'earth': 1.6094379124341003,\n",
              " 'capac': 2.302585092994046,\n",
              " 'would': 2.302585092994046,\n",
              " 'absorb': 2.302585092994046,\n",
              " 'tree': 2.302585092994046,\n",
              " 'otherwis': 2.302585092994046,\n",
              " 'forest': 2.302585092994046,\n",
              " 'dioxid': 1.6094379124341003,\n",
              " 'larg': 1.6094379124341003,\n",
              " 'acceler': 1.6094379124341003,\n",
              " 'cut': 2.302585092994046,\n",
              " 'act': 2.302585092994046,\n",
              " 'amount': 1.6094379124341003,\n",
              " 'store': 1.6094379124341003,\n",
              " 'sink': 2.302585092994046,\n",
              " 'abil': 2.302585092994046,\n",
              " 'planet': 2.302585092994046,\n",
              " 'reduc': 1.6094379124341003,\n",
              " 'sourc': 2.302585092994046,\n",
              " '“': 2.302585092994046,\n",
              " 'slow': 2.302585092994046,\n",
              " 'oxid': 2.302585092994046,\n",
              " '”': 2.302585092994046,\n",
              " 'rate': 2.302585092994046,\n",
              " 'mitig': 2.302585092994046,\n",
              " 'transport': 2.302585092994046,\n",
              " 'methan': 1.6094379124341003,\n",
              " 'emiss': 1.6094379124341003,\n",
              " 'major': 2.302585092994046,\n",
              " 'nitrou': 2.302585092994046,\n",
              " 'contributor': 2.302585092994046,\n",
              " 'essenti': 2.302585092994046,\n",
              " 'thaw': 2.302585092994046,\n",
              " 'feedback': 2.302585092994046,\n",
              " 'sub-arct': 2.302585092994046,\n",
              " 'arctic': 2.302585092994046,\n",
              " 'loop': 2.302585092994046,\n",
              " 'permafrost': 2.302585092994046,\n",
              " 'mani': 2.302585092994046,\n",
              " 'breed': 2.302585092994046,\n",
              " 'numer': 2.302585092994046,\n",
              " 'plant': 2.302585092994046,\n",
              " 'extinct': 2.302585092994046,\n",
              " 'threat': 2.302585092994046,\n",
              " 'cooler': 2.302585092994046,\n",
              " 'affect': 1.2039728043259361,\n",
              " 'disappear': 2.302585092994046,\n",
              " 'condit': 2.302585092994046,\n",
              " 'migrat': 2.302585092994046,\n",
              " 'area': 1.6094379124341003,\n",
              " 'forc': 2.302585092994046,\n",
              " 'adapt': 1.6094379124341003,\n",
              " 'anim': 2.302585092994046,\n",
              " 'young': 2.302585092994046,\n",
              " 'suitabl': 2.302585092994046,\n",
              " 'surviv': 2.302585092994046,\n",
              " 'avail': 2.302585092994046,\n",
              " 'struggl': 2.302585092994046,\n",
              " 'worsen': 2.302585092994046,\n",
              " 'furthermor': 2.302585092994046,\n",
              " 'issu': 2.302585092994046,\n",
              " 'heat-rel': 2.302585092994046,\n",
              " 'heatwav': 2.302585092994046,\n",
              " 'pollut': 2.302585092994046,\n",
              " 'allow': 2.302585092994046,\n",
              " 'spread': 2.302585092994046,\n",
              " 'common': 2.302585092994046,\n",
              " 'increasingli': 2.302585092994046,\n",
              " 'exacerb': 2.302585092994046,\n",
              " 'vector-born': 2.302585092994046,\n",
              " 'ill': 2.302585092994046,\n",
              " 'respiratori': 2.302585092994046,\n",
              " 'qualiti': 2.302585092994046,\n",
              " 'diseas': 2.302585092994046,\n",
              " 'air': 2.302585092994046,\n",
              " 'equit': 2.302585092994046,\n",
              " 'yield': 2.302585092994046,\n",
              " 'ﬁsheri': 2.302585092994046,\n",
              " 'highlight': 2.302585092994046,\n",
              " 'econom': 2.302585092994046,\n",
              " 'tourism': 2.302585092994046,\n",
              " 'suffer': 2.302585092994046,\n",
              " 'disproportion': 2.302585092994046,\n",
              " 'strategi': 2.302585092994046,\n",
              " 'sector': 2.302585092994046,\n",
              " 'need': 2.302585092994046,\n",
              " 'often': 2.302585092994046,\n",
              " 'low-incom': 2.302585092994046,\n",
              " 'crop': 2.302585092994046}"
            ]
          },
          "metadata": {},
          "execution_count": 79
        }
      ],
      "source": [
        "idf_values"
      ]
    },
    {
      "cell_type": "code",
      "execution_count": 80,
      "metadata": {
        "id": "nRLlc2Jz3qfj"
      },
      "outputs": [],
      "source": [
        "flattened_documents = [item for subset in documents for item in subset]\n"
      ]
    },
    {
      "cell_type": "code",
      "execution_count": 81,
      "metadata": {
        "colab": {
          "base_uri": "https://localhost:8080/"
        },
        "id": "iJcuajg0rYlF",
        "outputId": "6a75fe29-1be6-42e1-a8f6-cae557ad99cf"
      },
      "outputs": [
        {
          "output_type": "stream",
          "name": "stdout",
          "text": [
            "Cosine Similarity Matrix:\n",
            "[[1.         0.08498005 0.15606061 0.10048552 0.13367881 0.31438608\n",
            "  0.16166563 0.07915161 0.11585852 0.09342472]\n",
            " [0.08498005 1.         0.07599332 0.10923559 0.02964656 0.02105173\n",
            "  0.09574804 0.1469649  0.07998111 0.10938751]\n",
            " [0.15606061 0.07599332 1.         0.11761826 0.05501614 0.10556248\n",
            "  0.12947104 0.08152305 0.10155838 0.13404031]\n",
            " [0.10048552 0.10923559 0.11761826 1.         0.0296001  0.02922906\n",
            "  0.04416655 0.12470836 0.15094728 0.14522008]\n",
            " [0.13367881 0.02964656 0.05501614 0.0296001  1.         0.21087629\n",
            "  0.31657657 0.02986917 0.01139626 0.01174476]\n",
            " [0.31438608 0.02105173 0.10556248 0.02922906 0.21087629 1.\n",
            "  0.23738125 0.02120981 0.04380309 0.05877334]\n",
            " [0.16166563 0.09574804 0.12947104 0.04416655 0.31657657 0.23738125\n",
            "  1.         0.0122327  0.03153341 0.01250254]\n",
            " [0.07915161 0.1469649  0.08152305 0.12470836 0.02986917 0.02120981\n",
            "  0.0122327  1.         0.07853239 0.1102089 ]\n",
            " [0.11585852 0.07998111 0.10155838 0.15094728 0.01139626 0.04380309\n",
            "  0.03153341 0.07853239 1.         0.04157355]\n",
            " [0.09342472 0.10938751 0.13404031 0.14522008 0.01174476 0.05877334\n",
            "  0.01250254 0.1102089  0.04157355 1.        ]]\n"
          ]
        }
      ],
      "source": [
        "from sklearn.feature_extraction.text import TfidfVectorizer\n",
        "from sklearn.metrics.pairwise import cosine_similarity\n",
        "\n",
        "combined_documents = [' '.join(doc_tokens) for doc_tokens in documents]\n",
        "\n",
        "vectorizer = TfidfVectorizer()\n",
        "tfidf_matrix = vectorizer.fit_transform(combined_documents)\n",
        "\n",
        "similarity_matrix = cosine_similarity(tfidf_matrix)\n",
        "\n",
        "print(\"Cosine Similarity Matrix:\")\n",
        "print(similarity_matrix)\n"
      ]
    },
    {
      "cell_type": "code",
      "execution_count": 82,
      "metadata": {
        "colab": {
          "base_uri": "https://localhost:8080/"
        },
        "id": "2yl4Vs7KsXj3",
        "outputId": "5e45f53f-1ab4-4114-94ef-7a514d8200ce"
      },
      "outputs": [
        {
          "output_type": "stream",
          "name": "stdout",
          "text": [
            "\n",
            "Top 3 related documents to Document 1:\n",
            "Document 6: Similarity Score = 0.3144\n",
            "Document 7: Similarity Score = 0.1617\n",
            "Document 3: Similarity Score = 0.1561\n",
            "\n",
            "Top 3 related documents to Document 2:\n",
            "Document 8: Similarity Score = 0.1470\n",
            "Document 10: Similarity Score = 0.1094\n",
            "Document 4: Similarity Score = 0.1092\n",
            "\n",
            "Top 3 related documents to Document 3:\n",
            "Document 1: Similarity Score = 0.1561\n",
            "Document 10: Similarity Score = 0.1340\n",
            "Document 7: Similarity Score = 0.1295\n",
            "\n",
            "Top 3 related documents to Document 4:\n",
            "Document 9: Similarity Score = 0.1509\n",
            "Document 10: Similarity Score = 0.1452\n",
            "Document 8: Similarity Score = 0.1247\n",
            "\n",
            "Top 3 related documents to Document 5:\n",
            "Document 7: Similarity Score = 0.3166\n",
            "Document 6: Similarity Score = 0.2109\n",
            "Document 1: Similarity Score = 0.1337\n",
            "\n",
            "Top 3 related documents to Document 6:\n",
            "Document 1: Similarity Score = 0.3144\n",
            "Document 7: Similarity Score = 0.2374\n",
            "Document 5: Similarity Score = 0.2109\n",
            "\n",
            "Top 3 related documents to Document 7:\n",
            "Document 5: Similarity Score = 0.3166\n",
            "Document 6: Similarity Score = 0.2374\n",
            "Document 1: Similarity Score = 0.1617\n",
            "\n",
            "Top 3 related documents to Document 8:\n",
            "Document 2: Similarity Score = 0.1470\n",
            "Document 4: Similarity Score = 0.1247\n",
            "Document 10: Similarity Score = 0.1102\n",
            "\n",
            "Top 3 related documents to Document 9:\n",
            "Document 4: Similarity Score = 0.1509\n",
            "Document 1: Similarity Score = 0.1159\n",
            "Document 3: Similarity Score = 0.1016\n",
            "\n",
            "Top 3 related documents to Document 10:\n",
            "Document 4: Similarity Score = 0.1452\n",
            "Document 3: Similarity Score = 0.1340\n",
            "Document 8: Similarity Score = 0.1102\n"
          ]
        }
      ],
      "source": [
        "for doc_index in range(len(documents)):\n",
        "    similarity_scores = similarity_matrix[doc_index]\n",
        "\n",
        "    top_indices = similarity_scores.argsort()[-4:-1][::-1]  # Top 3 excluding itself\n",
        "\n",
        "    print(f\"\\nTop 3 related documents to Document {doc_index + 1}:\")\n",
        "    for index in top_indices:\n",
        "        print(f\"Document {index + 1}: Similarity Score = {similarity_scores[index]:.4f}\")"
      ]
    },
    {
      "cell_type": "markdown",
      "metadata": {
        "id": "QBvTqDCP-VL8"
      },
      "source": [
        "Now Saving All Tokes in a File"
      ]
    },
    {
      "cell_type": "code",
      "execution_count": 83,
      "metadata": {
        "colab": {
          "base_uri": "https://localhost:8080/"
        },
        "id": "H7uVLBSU-VL8",
        "outputId": "1eb90934-2f40-4f96-8dd3-4a1896069ad7"
      },
      "outputs": [
        {
          "output_type": "stream",
          "name": "stdout",
          "text": [
            "All Tokens have been Saved\n"
          ]
        }
      ],
      "source": [
        "with open('tokens.txt', 'w', encoding='utf-8') as file:\n",
        "    for index, token_set in enumerate(documents):\n",
        "        token_list = sorted(token_set)\n",
        "        tokens = ', '.join(token_list)\n",
        "        file.write(f\"Document {index + 1} : {tokens}\\n\")\n",
        "\n",
        "print(\"All Tokens have been Saved\")"
      ]
    }
  ],
  "metadata": {
    "colab": {
      "provenance": []
    },
    "kernelspec": {
      "display_name": "Python 3",
      "name": "python3"
    },
    "language_info": {
      "name": "python",
      "version": "3.12.7"
    }
  },
  "nbformat": 4,
  "nbformat_minor": 0
}